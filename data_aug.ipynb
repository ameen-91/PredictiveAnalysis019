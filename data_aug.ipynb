{
 "cells": [
  {
   "cell_type": "code",
   "execution_count": 2,
   "metadata": {},
   "outputs": [],
   "source": [
    "import pandas as pd\n",
    "import matplotlib as plt"
   ]
  },
  {
   "cell_type": "code",
   "execution_count": 3,
   "metadata": {},
   "outputs": [],
   "source": [
    "data = pd.read_csv('anomaly_data.csv')\n"
   ]
  },
  {
   "cell_type": "code",
   "execution_count": 4,
   "metadata": {},
   "outputs": [
    {
     "ename": "KeyError",
     "evalue": "(422, 'anomaly')",
     "output_type": "error",
     "traceback": [
      "\u001b[1;31m---------------------------------------------------------------------------\u001b[0m",
      "\u001b[1;31mKeyError\u001b[0m                                  Traceback (most recent call last)",
      "File \u001b[1;32mc:\\Users\\moham\\AppData\\Local\\Programs\\Python\\Python310\\lib\\site-packages\\pandas\\core\\indexes\\base.py:3802\u001b[0m, in \u001b[0;36mIndex.get_loc\u001b[1;34m(self, key, method, tolerance)\u001b[0m\n\u001b[0;32m   3801\u001b[0m \u001b[39mtry\u001b[39;00m:\n\u001b[1;32m-> 3802\u001b[0m     \u001b[39mreturn\u001b[39;00m \u001b[39mself\u001b[39;49m\u001b[39m.\u001b[39;49m_engine\u001b[39m.\u001b[39;49mget_loc(casted_key)\n\u001b[0;32m   3803\u001b[0m \u001b[39mexcept\u001b[39;00m \u001b[39mKeyError\u001b[39;00m \u001b[39mas\u001b[39;00m err:\n",
      "File \u001b[1;32mc:\\Users\\moham\\AppData\\Local\\Programs\\Python\\Python310\\lib\\site-packages\\pandas\\_libs\\index.pyx:138\u001b[0m, in \u001b[0;36mpandas._libs.index.IndexEngine.get_loc\u001b[1;34m()\u001b[0m\n",
      "File \u001b[1;32mc:\\Users\\moham\\AppData\\Local\\Programs\\Python\\Python310\\lib\\site-packages\\pandas\\_libs\\index.pyx:165\u001b[0m, in \u001b[0;36mpandas._libs.index.IndexEngine.get_loc\u001b[1;34m()\u001b[0m\n",
      "File \u001b[1;32mpandas\\_libs\\hashtable_class_helper.pxi:5745\u001b[0m, in \u001b[0;36mpandas._libs.hashtable.PyObjectHashTable.get_item\u001b[1;34m()\u001b[0m\n",
      "File \u001b[1;32mpandas\\_libs\\hashtable_class_helper.pxi:5753\u001b[0m, in \u001b[0;36mpandas._libs.hashtable.PyObjectHashTable.get_item\u001b[1;34m()\u001b[0m\n",
      "\u001b[1;31mKeyError\u001b[0m: (422, 'anomaly')",
      "\nThe above exception was the direct cause of the following exception:\n",
      "\u001b[1;31mKeyError\u001b[0m                                  Traceback (most recent call last)",
      "Cell \u001b[1;32mIn[4], line 6\u001b[0m\n\u001b[0;32m      1\u001b[0m \u001b[39mfor\u001b[39;00m i \u001b[39min\u001b[39;00m \u001b[39mrange\u001b[39m(\u001b[39mlen\u001b[39m(data)):\n\u001b[0;32m      2\u001b[0m     \u001b[39mif\u001b[39;00m (data\u001b[39m.\u001b[39mloc[i, \u001b[39m'\u001b[39m\u001b[39mPressure (psi)\u001b[39m\u001b[39m'\u001b[39m] \u001b[39m<\u001b[39m \u001b[39m27\u001b[39m \u001b[39mor\u001b[39;00m data\u001b[39m.\u001b[39mloc[i, \u001b[39m'\u001b[39m\u001b[39mPressure (psi)\u001b[39m\u001b[39m'\u001b[39m] \u001b[39m>\u001b[39m \u001b[39m150\u001b[39m \u001b[39mor\u001b[39;00m\n\u001b[0;32m      3\u001b[0m         data\u001b[39m.\u001b[39mloc[i, \u001b[39m'\u001b[39m\u001b[39mTemperature (°C)\u001b[39m\u001b[39m'\u001b[39m] \u001b[39m>\u001b[39m \u001b[39m88\u001b[39m \u001b[39mor\u001b[39;00m\n\u001b[0;32m      4\u001b[0m         data\u001b[39m.\u001b[39mloc[i, \u001b[39m'\u001b[39m\u001b[39mOil Level (\u001b[39m\u001b[39m%\u001b[39m\u001b[39m)\u001b[39m\u001b[39m'\u001b[39m] \u001b[39m<\u001b[39m \u001b[39m18\u001b[39m \u001b[39mor\u001b[39;00m\n\u001b[0;32m      5\u001b[0m         data\u001b[39m.\u001b[39mloc[i, \u001b[39m'\u001b[39m\u001b[39mTool RPM (rpm)\u001b[39m\u001b[39m'\u001b[39m] \u001b[39m>\u001b[39m \u001b[39m2500\u001b[39m \u001b[39mand\u001b[39;00m\n\u001b[1;32m----> 6\u001b[0m         data[i,\u001b[39m'\u001b[39;49m\u001b[39manomaly\u001b[39;49m\u001b[39m'\u001b[39;49m]\u001b[39m==\u001b[39m\u001b[39m-\u001b[39m\u001b[39m1\u001b[39m):\n\u001b[0;32m      7\u001b[0m         data\u001b[39m.\u001b[39mloc[i, \u001b[39m'\u001b[39m\u001b[39mMachine Status\u001b[39m\u001b[39m'\u001b[39m] \u001b[39m=\u001b[39m \u001b[39m'\u001b[39m\u001b[39mNotRunning\u001b[39m\u001b[39m'\u001b[39m\n",
      "File \u001b[1;32mc:\\Users\\moham\\AppData\\Local\\Programs\\Python\\Python310\\lib\\site-packages\\pandas\\core\\frame.py:3807\u001b[0m, in \u001b[0;36mDataFrame.__getitem__\u001b[1;34m(self, key)\u001b[0m\n\u001b[0;32m   3805\u001b[0m \u001b[39mif\u001b[39;00m \u001b[39mself\u001b[39m\u001b[39m.\u001b[39mcolumns\u001b[39m.\u001b[39mnlevels \u001b[39m>\u001b[39m \u001b[39m1\u001b[39m:\n\u001b[0;32m   3806\u001b[0m     \u001b[39mreturn\u001b[39;00m \u001b[39mself\u001b[39m\u001b[39m.\u001b[39m_getitem_multilevel(key)\n\u001b[1;32m-> 3807\u001b[0m indexer \u001b[39m=\u001b[39m \u001b[39mself\u001b[39;49m\u001b[39m.\u001b[39;49mcolumns\u001b[39m.\u001b[39;49mget_loc(key)\n\u001b[0;32m   3808\u001b[0m \u001b[39mif\u001b[39;00m is_integer(indexer):\n\u001b[0;32m   3809\u001b[0m     indexer \u001b[39m=\u001b[39m [indexer]\n",
      "File \u001b[1;32mc:\\Users\\moham\\AppData\\Local\\Programs\\Python\\Python310\\lib\\site-packages\\pandas\\core\\indexes\\base.py:3804\u001b[0m, in \u001b[0;36mIndex.get_loc\u001b[1;34m(self, key, method, tolerance)\u001b[0m\n\u001b[0;32m   3802\u001b[0m     \u001b[39mreturn\u001b[39;00m \u001b[39mself\u001b[39m\u001b[39m.\u001b[39m_engine\u001b[39m.\u001b[39mget_loc(casted_key)\n\u001b[0;32m   3803\u001b[0m \u001b[39mexcept\u001b[39;00m \u001b[39mKeyError\u001b[39;00m \u001b[39mas\u001b[39;00m err:\n\u001b[1;32m-> 3804\u001b[0m     \u001b[39mraise\u001b[39;00m \u001b[39mKeyError\u001b[39;00m(key) \u001b[39mfrom\u001b[39;00m \u001b[39merr\u001b[39;00m\n\u001b[0;32m   3805\u001b[0m \u001b[39mexcept\u001b[39;00m \u001b[39mTypeError\u001b[39;00m:\n\u001b[0;32m   3806\u001b[0m     \u001b[39m# If we have a listlike key, _check_indexing_error will raise\u001b[39;00m\n\u001b[0;32m   3807\u001b[0m     \u001b[39m#  InvalidIndexError. Otherwise we fall through and re-raise\u001b[39;00m\n\u001b[0;32m   3808\u001b[0m     \u001b[39m#  the TypeError.\u001b[39;00m\n\u001b[0;32m   3809\u001b[0m     \u001b[39mself\u001b[39m\u001b[39m.\u001b[39m_check_indexing_error(key)\n",
      "\u001b[1;31mKeyError\u001b[0m: (422, 'anomaly')"
     ]
    }
   ],
   "source": [
    "for i in range(len(data)):\n",
    "    if (data.loc[i, 'Pressure (psi)'] < 27 or data.loc[i, 'Pressure (psi)'] > 150 or\n",
    "        data.loc[i, 'Temperature (°C)'] > 88 or\n",
    "        data.loc[i, 'Oil Level (%)'] < 18 or\n",
    "        data.loc[i, 'Tool RPM (rpm)'] > 2500 and\n",
    "        data[i,'anomaly'] == -1):\n",
    "        data.loc[i, 'Machine Status'] = 'NotRunning'"
   ]
  },
  {
   "cell_type": "code",
   "execution_count": 5,
   "metadata": {},
   "outputs": [
    {
     "data": {
      "text/html": [
       "<div>\n",
       "<style scoped>\n",
       "    .dataframe tbody tr th:only-of-type {\n",
       "        vertical-align: middle;\n",
       "    }\n",
       "\n",
       "    .dataframe tbody tr th {\n",
       "        vertical-align: top;\n",
       "    }\n",
       "\n",
       "    .dataframe thead th {\n",
       "        text-align: right;\n",
       "    }\n",
       "</style>\n",
       "<table border=\"1\" class=\"dataframe\">\n",
       "  <thead>\n",
       "    <tr style=\"text-align: right;\">\n",
       "      <th></th>\n",
       "      <th>Unnamed: 0</th>\n",
       "      <th>Timestamp</th>\n",
       "      <th>Pressure (psi)</th>\n",
       "      <th>Temperature (°C)</th>\n",
       "      <th>Oil Flow (L/min)</th>\n",
       "      <th>Vibration (mm/s)</th>\n",
       "      <th>Power Status</th>\n",
       "      <th>Oil Level (%)</th>\n",
       "      <th>Tool RPM (rpm)</th>\n",
       "      <th>Machine Status</th>\n",
       "      <th>Current (A)</th>\n",
       "      <th>scores</th>\n",
       "      <th>anomaly</th>\n",
       "    </tr>\n",
       "  </thead>\n",
       "  <tbody>\n",
       "    <tr>\n",
       "      <th>0</th>\n",
       "      <td>0</td>\n",
       "      <td>17-09-2023 00:00</td>\n",
       "      <td>45.2</td>\n",
       "      <td>29.8</td>\n",
       "      <td>2.4</td>\n",
       "      <td>0.021</td>\n",
       "      <td>ON</td>\n",
       "      <td>73.5</td>\n",
       "      <td>1505</td>\n",
       "      <td>Running</td>\n",
       "      <td>10.3</td>\n",
       "      <td>0.036549</td>\n",
       "      <td>1</td>\n",
       "    </tr>\n",
       "    <tr>\n",
       "      <th>1</th>\n",
       "      <td>1</td>\n",
       "      <td>17-09-2023 00:00</td>\n",
       "      <td>48.2</td>\n",
       "      <td>28.8</td>\n",
       "      <td>3.4</td>\n",
       "      <td>0.031</td>\n",
       "      <td>ON</td>\n",
       "      <td>70.5</td>\n",
       "      <td>1805</td>\n",
       "      <td>Running</td>\n",
       "      <td>11.3</td>\n",
       "      <td>0.085057</td>\n",
       "      <td>1</td>\n",
       "    </tr>\n",
       "    <tr>\n",
       "      <th>2</th>\n",
       "      <td>2</td>\n",
       "      <td>17-09-2023 00:01</td>\n",
       "      <td>45.1</td>\n",
       "      <td>29.9</td>\n",
       "      <td>2.5</td>\n",
       "      <td>0.022</td>\n",
       "      <td>ON</td>\n",
       "      <td>73.3</td>\n",
       "      <td>1508</td>\n",
       "      <td>Running</td>\n",
       "      <td>10.4</td>\n",
       "      <td>0.040864</td>\n",
       "      <td>1</td>\n",
       "    </tr>\n",
       "    <tr>\n",
       "      <th>3</th>\n",
       "      <td>3</td>\n",
       "      <td>17-09-2023 00:01</td>\n",
       "      <td>48.1</td>\n",
       "      <td>28.9</td>\n",
       "      <td>3.5</td>\n",
       "      <td>0.032</td>\n",
       "      <td>ON</td>\n",
       "      <td>70.3</td>\n",
       "      <td>1808</td>\n",
       "      <td>Running</td>\n",
       "      <td>11.4</td>\n",
       "      <td>0.092148</td>\n",
       "      <td>1</td>\n",
       "    </tr>\n",
       "    <tr>\n",
       "      <th>4</th>\n",
       "      <td>4</td>\n",
       "      <td>17-09-2023 00:02</td>\n",
       "      <td>45.3</td>\n",
       "      <td>30.0</td>\n",
       "      <td>2.6</td>\n",
       "      <td>0.023</td>\n",
       "      <td>ON</td>\n",
       "      <td>73.2</td>\n",
       "      <td>1512</td>\n",
       "      <td>Running</td>\n",
       "      <td>10.5</td>\n",
       "      <td>0.046241</td>\n",
       "      <td>1</td>\n",
       "    </tr>\n",
       "  </tbody>\n",
       "</table>\n",
       "</div>"
      ],
      "text/plain": [
       "   Unnamed: 0         Timestamp  Pressure (psi)  Temperature (°C)  \\\n",
       "0           0  17-09-2023 00:00            45.2              29.8   \n",
       "1           1  17-09-2023 00:00            48.2              28.8   \n",
       "2           2  17-09-2023 00:01            45.1              29.9   \n",
       "3           3  17-09-2023 00:01            48.1              28.9   \n",
       "4           4  17-09-2023 00:02            45.3              30.0   \n",
       "\n",
       "   Oil Flow (L/min)  Vibration (mm/s) Power Status  Oil Level (%)  \\\n",
       "0               2.4             0.021           ON           73.5   \n",
       "1               3.4             0.031           ON           70.5   \n",
       "2               2.5             0.022           ON           73.3   \n",
       "3               3.5             0.032           ON           70.3   \n",
       "4               2.6             0.023           ON           73.2   \n",
       "\n",
       "   Tool RPM (rpm) Machine Status  Current (A)    scores  anomaly  \n",
       "0            1505        Running         10.3  0.036549        1  \n",
       "1            1805        Running         11.3  0.085057        1  \n",
       "2            1508        Running         10.4  0.040864        1  \n",
       "3            1808        Running         11.4  0.092148        1  \n",
       "4            1512        Running         10.5  0.046241        1  "
      ]
     },
     "execution_count": 5,
     "metadata": {},
     "output_type": "execute_result"
    }
   ],
   "source": [
    "data.head()"
   ]
  },
  {
   "cell_type": "code",
   "execution_count": null,
   "metadata": {},
   "outputs": [],
   "source": [
    "data.to_csv('data_aug.csv', index=False) "
   ]
  },
  {
   "cell_type": "code",
   "execution_count": null,
   "metadata": {},
   "outputs": [
    {
     "data": {
      "text/plain": [
       "0.6"
      ]
     },
     "execution_count": 85,
     "metadata": {},
     "output_type": "execute_result"
    }
   ],
   "source": [
    "data['Vibration (mm/s)'].median()"
   ]
  },
  {
   "cell_type": "code",
   "execution_count": null,
   "metadata": {},
   "outputs": [
    {
     "ename": "AttributeError",
     "evalue": "module 'matplotlib' has no attribute 'figure'",
     "output_type": "error",
     "traceback": [
      "\u001b[1;31m---------------------------------------------------------------------------\u001b[0m",
      "\u001b[1;31mAttributeError\u001b[0m                            Traceback (most recent call last)",
      "Cell \u001b[1;32mIn[86], line 1\u001b[0m\n\u001b[1;32m----> 1\u001b[0m plt\u001b[39m.\u001b[39;49mfigure(figsize\u001b[39m=\u001b[39m(\u001b[39m20\u001b[39m,\u001b[39m50\u001b[39m))\n\u001b[0;32m      2\u001b[0m ax\u001b[39m=\u001b[39mdata[\u001b[39m'\u001b[39m\u001b[39mtime_cycles\u001b[39m\u001b[39m'\u001b[39m]\u001b[39m.\u001b[39mplot(kind\u001b[39m=\u001b[39m\u001b[39m'\u001b[39m\u001b[39mbarh\u001b[39m\u001b[39m'\u001b[39m,width\u001b[39m=\u001b[39m\u001b[39m0.8\u001b[39m, stacked\u001b[39m=\u001b[39m\u001b[39mTrue\u001b[39;00m,align\u001b[39m=\u001b[39m\u001b[39m'\u001b[39m\u001b[39mcenter\u001b[39m\u001b[39m'\u001b[39m)\n",
      "File \u001b[1;32mc:\\Users\\moham\\AppData\\Local\\Programs\\Python\\Python310\\lib\\site-packages\\matplotlib\\_api\\__init__.py:226\u001b[0m, in \u001b[0;36mcaching_module_getattr.<locals>.__getattr__\u001b[1;34m(name)\u001b[0m\n\u001b[0;32m    224\u001b[0m \u001b[39mif\u001b[39;00m name \u001b[39min\u001b[39;00m props:\n\u001b[0;32m    225\u001b[0m     \u001b[39mreturn\u001b[39;00m props[name]\u001b[39m.\u001b[39m\u001b[39m__get__\u001b[39m(instance)\n\u001b[1;32m--> 226\u001b[0m \u001b[39mraise\u001b[39;00m \u001b[39mAttributeError\u001b[39;00m(\n\u001b[0;32m    227\u001b[0m     \u001b[39mf\u001b[39m\u001b[39m\"\u001b[39m\u001b[39mmodule \u001b[39m\u001b[39m{\u001b[39;00m\u001b[39mcls\u001b[39m\u001b[39m.\u001b[39m\u001b[39m__module__\u001b[39m\u001b[39m!r}\u001b[39;00m\u001b[39m has no attribute \u001b[39m\u001b[39m{\u001b[39;00mname\u001b[39m!r}\u001b[39;00m\u001b[39m\"\u001b[39m)\n",
      "\u001b[1;31mAttributeError\u001b[0m: module 'matplotlib' has no attribute 'figure'"
     ]
    }
   ],
   "source": [
    "plt.figure(figsize=(20,50))\n",
    "ax=data['time_cycles'].plot(kind='barh',width=0.8, stacked=True,align='center')"
   ]
  },
  {
   "cell_type": "markdown",
   "metadata": {},
   "source": []
  }
 ],
 "metadata": {
  "kernelspec": {
   "display_name": "Python 3",
   "language": "python",
   "name": "python3"
  },
  "language_info": {
   "codemirror_mode": {
    "name": "ipython",
    "version": 3
   },
   "file_extension": ".py",
   "mimetype": "text/x-python",
   "name": "python",
   "nbconvert_exporter": "python",
   "pygments_lexer": "ipython3",
   "version": "3.10.9"
  },
  "orig_nbformat": 4
 },
 "nbformat": 4,
 "nbformat_minor": 2
}
