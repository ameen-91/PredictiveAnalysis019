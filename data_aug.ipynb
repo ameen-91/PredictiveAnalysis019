{
 "cells": [
  {
   "cell_type": "code",
   "execution_count": 80,
   "metadata": {},
   "outputs": [],
   "source": [
    "import pandas as pd\n",
    "import matplotlib as plt"
   ]
  },
  {
   "cell_type": "code",
   "execution_count": 81,
   "metadata": {},
   "outputs": [],
   "source": [
    "data = pd.read_csv('data.csv')\n"
   ]
  },
  {
   "cell_type": "code",
   "execution_count": 82,
   "metadata": {},
   "outputs": [],
   "source": [
    "for i in range(len(data)):\n",
    "    if (data.loc[i, 'Pressure (psi)'] < 27 or data.loc[i, 'Pressure (psi)'] > 150 or\n",
    "        data.loc[i, 'Temperature (°C)'] > 88 or\n",
    "        data.loc[i, 'Oil Level (%)'] < 18 or\n",
    "        data.loc[i, 'Tool RPM (rpm)'] > 2500):\n",
    "        data.loc[i, 'Machine Status'] = 'NotRunning'"
   ]
  },
  {
   "cell_type": "code",
   "execution_count": 83,
   "metadata": {},
   "outputs": [
    {
     "data": {
      "text/html": [
       "<div>\n",
       "<style scoped>\n",
       "    .dataframe tbody tr th:only-of-type {\n",
       "        vertical-align: middle;\n",
       "    }\n",
       "\n",
       "    .dataframe tbody tr th {\n",
       "        vertical-align: top;\n",
       "    }\n",
       "\n",
       "    .dataframe thead th {\n",
       "        text-align: right;\n",
       "    }\n",
       "</style>\n",
       "<table border=\"1\" class=\"dataframe\">\n",
       "  <thead>\n",
       "    <tr style=\"text-align: right;\">\n",
       "      <th></th>\n",
       "      <th>Timestamp</th>\n",
       "      <th>Pressure (psi)</th>\n",
       "      <th>Temperature (°C)</th>\n",
       "      <th>Oil Flow (L/min)</th>\n",
       "      <th>Vibration (mm/s)</th>\n",
       "      <th>Power Status</th>\n",
       "      <th>Oil Level (%)</th>\n",
       "      <th>Tool RPM (rpm)</th>\n",
       "      <th>Machine Status</th>\n",
       "      <th>Current (A)</th>\n",
       "    </tr>\n",
       "  </thead>\n",
       "  <tbody>\n",
       "    <tr>\n",
       "      <th>0</th>\n",
       "      <td>17-09-2023 00:00</td>\n",
       "      <td>45.2</td>\n",
       "      <td>29.8</td>\n",
       "      <td>2.4</td>\n",
       "      <td>0.021</td>\n",
       "      <td>ON</td>\n",
       "      <td>73.5</td>\n",
       "      <td>1505</td>\n",
       "      <td>Running</td>\n",
       "      <td>10.3</td>\n",
       "    </tr>\n",
       "    <tr>\n",
       "      <th>1</th>\n",
       "      <td>17-09-2023 00:00</td>\n",
       "      <td>48.2</td>\n",
       "      <td>28.8</td>\n",
       "      <td>3.4</td>\n",
       "      <td>0.031</td>\n",
       "      <td>ON</td>\n",
       "      <td>70.5</td>\n",
       "      <td>1805</td>\n",
       "      <td>Running</td>\n",
       "      <td>11.3</td>\n",
       "    </tr>\n",
       "    <tr>\n",
       "      <th>2</th>\n",
       "      <td>17-09-2023 00:01</td>\n",
       "      <td>45.1</td>\n",
       "      <td>29.9</td>\n",
       "      <td>2.5</td>\n",
       "      <td>0.022</td>\n",
       "      <td>ON</td>\n",
       "      <td>73.3</td>\n",
       "      <td>1508</td>\n",
       "      <td>Running</td>\n",
       "      <td>10.4</td>\n",
       "    </tr>\n",
       "    <tr>\n",
       "      <th>3</th>\n",
       "      <td>17-09-2023 00:01</td>\n",
       "      <td>48.1</td>\n",
       "      <td>28.9</td>\n",
       "      <td>3.5</td>\n",
       "      <td>0.032</td>\n",
       "      <td>ON</td>\n",
       "      <td>70.3</td>\n",
       "      <td>1808</td>\n",
       "      <td>Running</td>\n",
       "      <td>11.4</td>\n",
       "    </tr>\n",
       "    <tr>\n",
       "      <th>4</th>\n",
       "      <td>17-09-2023 00:02</td>\n",
       "      <td>45.3</td>\n",
       "      <td>30.0</td>\n",
       "      <td>2.6</td>\n",
       "      <td>0.023</td>\n",
       "      <td>ON</td>\n",
       "      <td>73.2</td>\n",
       "      <td>1512</td>\n",
       "      <td>Running</td>\n",
       "      <td>10.5</td>\n",
       "    </tr>\n",
       "  </tbody>\n",
       "</table>\n",
       "</div>"
      ],
      "text/plain": [
       "          Timestamp  Pressure (psi)  Temperature (°C)  Oil Flow (L/min)  \\\n",
       "0  17-09-2023 00:00            45.2              29.8               2.4   \n",
       "1  17-09-2023 00:00            48.2              28.8               3.4   \n",
       "2  17-09-2023 00:01            45.1              29.9               2.5   \n",
       "3  17-09-2023 00:01            48.1              28.9               3.5   \n",
       "4  17-09-2023 00:02            45.3              30.0               2.6   \n",
       "\n",
       "   Vibration (mm/s) Power Status  Oil Level (%)  Tool RPM (rpm)  \\\n",
       "0             0.021           ON           73.5            1505   \n",
       "1             0.031           ON           70.5            1805   \n",
       "2             0.022           ON           73.3            1508   \n",
       "3             0.032           ON           70.3            1808   \n",
       "4             0.023           ON           73.2            1512   \n",
       "\n",
       "  Machine Status  Current (A)  \n",
       "0        Running         10.3  \n",
       "1        Running         11.3  \n",
       "2        Running         10.4  \n",
       "3        Running         11.4  \n",
       "4        Running         10.5  "
      ]
     },
     "execution_count": 83,
     "metadata": {},
     "output_type": "execute_result"
    }
   ],
   "source": [
    "data.head()"
   ]
  },
  {
   "cell_type": "code",
   "execution_count": 84,
   "metadata": {},
   "outputs": [],
   "source": [
    "data.to_csv('data_aug.csv', index=False) "
   ]
  },
  {
   "cell_type": "code",
   "execution_count": 85,
   "metadata": {},
   "outputs": [
    {
     "data": {
      "text/plain": [
       "0.6"
      ]
     },
     "execution_count": 85,
     "metadata": {},
     "output_type": "execute_result"
    }
   ],
   "source": [
    "data['Vibration (mm/s)'].median()"
   ]
  },
  {
   "cell_type": "code",
   "execution_count": 86,
   "metadata": {},
   "outputs": [
    {
     "ename": "AttributeError",
     "evalue": "module 'matplotlib' has no attribute 'figure'",
     "output_type": "error",
     "traceback": [
      "\u001b[1;31m---------------------------------------------------------------------------\u001b[0m",
      "\u001b[1;31mAttributeError\u001b[0m                            Traceback (most recent call last)",
      "Cell \u001b[1;32mIn[86], line 1\u001b[0m\n\u001b[1;32m----> 1\u001b[0m plt\u001b[39m.\u001b[39;49mfigure(figsize\u001b[39m=\u001b[39m(\u001b[39m20\u001b[39m,\u001b[39m50\u001b[39m))\n\u001b[0;32m      2\u001b[0m ax\u001b[39m=\u001b[39mdata[\u001b[39m'\u001b[39m\u001b[39mtime_cycles\u001b[39m\u001b[39m'\u001b[39m]\u001b[39m.\u001b[39mplot(kind\u001b[39m=\u001b[39m\u001b[39m'\u001b[39m\u001b[39mbarh\u001b[39m\u001b[39m'\u001b[39m,width\u001b[39m=\u001b[39m\u001b[39m0.8\u001b[39m, stacked\u001b[39m=\u001b[39m\u001b[39mTrue\u001b[39;00m,align\u001b[39m=\u001b[39m\u001b[39m'\u001b[39m\u001b[39mcenter\u001b[39m\u001b[39m'\u001b[39m)\n",
      "File \u001b[1;32mc:\\Users\\moham\\AppData\\Local\\Programs\\Python\\Python310\\lib\\site-packages\\matplotlib\\_api\\__init__.py:226\u001b[0m, in \u001b[0;36mcaching_module_getattr.<locals>.__getattr__\u001b[1;34m(name)\u001b[0m\n\u001b[0;32m    224\u001b[0m \u001b[39mif\u001b[39;00m name \u001b[39min\u001b[39;00m props:\n\u001b[0;32m    225\u001b[0m     \u001b[39mreturn\u001b[39;00m props[name]\u001b[39m.\u001b[39m\u001b[39m__get__\u001b[39m(instance)\n\u001b[1;32m--> 226\u001b[0m \u001b[39mraise\u001b[39;00m \u001b[39mAttributeError\u001b[39;00m(\n\u001b[0;32m    227\u001b[0m     \u001b[39mf\u001b[39m\u001b[39m\"\u001b[39m\u001b[39mmodule \u001b[39m\u001b[39m{\u001b[39;00m\u001b[39mcls\u001b[39m\u001b[39m.\u001b[39m\u001b[39m__module__\u001b[39m\u001b[39m!r}\u001b[39;00m\u001b[39m has no attribute \u001b[39m\u001b[39m{\u001b[39;00mname\u001b[39m!r}\u001b[39;00m\u001b[39m\"\u001b[39m)\n",
      "\u001b[1;31mAttributeError\u001b[0m: module 'matplotlib' has no attribute 'figure'"
     ]
    }
   ],
   "source": [
    "plt.figure(figsize=(20,50))\n",
    "ax=data['time_cycles'].plot(kind='barh',width=0.8, stacked=True,align='center')"
   ]
  },
  {
   "cell_type": "markdown",
   "metadata": {},
   "source": []
  }
 ],
 "metadata": {
  "kernelspec": {
   "display_name": "Python 3",
   "language": "python",
   "name": "python3"
  },
  "language_info": {
   "codemirror_mode": {
    "name": "ipython",
    "version": 3
   },
   "file_extension": ".py",
   "mimetype": "text/x-python",
   "name": "python",
   "nbconvert_exporter": "python",
   "pygments_lexer": "ipython3",
   "version": "3.10.9"
  },
  "orig_nbformat": 4
 },
 "nbformat": 4,
 "nbformat_minor": 2
}
